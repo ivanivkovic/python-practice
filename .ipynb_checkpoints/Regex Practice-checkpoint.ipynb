{
 "cells": [
  {
   "cell_type": "markdown",
   "metadata": {},
   "source": [
    "# Imports"
   ]
  },
  {
   "cell_type": "code",
   "execution_count": 1,
   "metadata": {},
   "outputs": [],
   "source": [
    "import re\n",
    "import pandas\n",
    "\n",
    "pandas.options.display.max_colwidth = 5000\n",
    "pandas.options.display.max_columns = 10\n",
    "pandas.options.display.max_rows = 200"
   ]
  },
  {
   "cell_type": "markdown",
   "metadata": {},
   "source": [
    "# Legend"
   ]
  },
  {
   "cell_type": "code",
   "execution_count": 87,
   "metadata": {},
   "outputs": [
    {
     "data": {
      "text/html": [
       "<style  type=\"text/css\" >\n",
       "</style><table id=\"T_068f5500_5240_11ea_a3b1_acd56466aa2b\" ><thead>    <tr>        <th class=\"col_heading level0 col0\" >Filter</th>        <th class=\"col_heading level0 col1\" >Explanation</th>    </tr></thead><tbody>\n",
       "                <tr>\n",
       "                                <td id=\"T_068f5500_5240_11ea_a3b1_acd56466aa2brow0_col0\" class=\"data row0 col0\" ><b>.</b></td>\n",
       "                        <td id=\"T_068f5500_5240_11ea_a3b1_acd56466aa2brow0_col1\" class=\"data row0 col1\" >match any single character (letter, digit, whitespace, everything), except . itself. <b>Needs ecaping with \\</b></td>\n",
       "            </tr>\n",
       "            <tr>\n",
       "                                <td id=\"T_068f5500_5240_11ea_a3b1_acd56466aa2brow1_col0\" class=\"data row1 col0\" ><b>\\.</b></td>\n",
       "                        <td id=\"T_068f5500_5240_11ea_a3b1_acd56466aa2brow1_col1\" class=\"data row1 col1\" >match any single character (letter, digit, whitespace, everything) and the dot</td>\n",
       "            </tr>\n",
       "            <tr>\n",
       "                                <td id=\"T_068f5500_5240_11ea_a3b1_acd56466aa2brow2_col0\" class=\"data row2 col0\" ><b>\\d</b></td>\n",
       "                        <td id=\"T_068f5500_5240_11ea_a3b1_acd56466aa2brow2_col1\" class=\"data row2 col1\" >match any digit</td>\n",
       "            </tr>\n",
       "            <tr>\n",
       "                                <td id=\"T_068f5500_5240_11ea_a3b1_acd56466aa2brow3_col0\" class=\"data row3 col0\" ><b>\\d+</b></td>\n",
       "                        <td id=\"T_068f5500_5240_11ea_a3b1_acd56466aa2brow3_col1\" class=\"data row3 col1\" >string has at least one digit</td>\n",
       "            </tr>\n",
       "            <tr>\n",
       "                                <td id=\"T_068f5500_5240_11ea_a3b1_acd56466aa2brow4_col0\" class=\"data row4 col0\" ><b>\\d\\d\\d</b></td>\n",
       "                        <td id=\"T_068f5500_5240_11ea_a3b1_acd56466aa2brow4_col1\" class=\"data row4 col1\" >exactly any three digits</td>\n",
       "            </tr>\n",
       "            <tr>\n",
       "                                <td id=\"T_068f5500_5240_11ea_a3b1_acd56466aa2brow5_col0\" class=\"data row5 col0\" ><b>[cmf]</b></td>\n",
       "                        <td id=\"T_068f5500_5240_11ea_a3b1_acd56466aa2brow5_col1\" class=\"data row5 col1\" >match only c, m, or f and nothing else</td>\n",
       "            </tr>\n",
       "            <tr>\n",
       "                                <td id=\"T_068f5500_5240_11ea_a3b1_acd56466aa2brow6_col0\" class=\"data row6 col0\" ><b>[^cmf]</b></td>\n",
       "                        <td id=\"T_068f5500_5240_11ea_a3b1_acd56466aa2brow6_col1\" class=\"data row6 col1\" >match any except c, m, or f</td>\n",
       "            </tr>\n",
       "            <tr>\n",
       "                                <td id=\"T_068f5500_5240_11ea_a3b1_acd56466aa2brow7_col0\" class=\"data row7 col0\" ><b>[0-6]</b></td>\n",
       "                        <td id=\"T_068f5500_5240_11ea_a3b1_acd56466aa2brow7_col1\" class=\"data row7 col1\" >match any digit from 0 to 6</td>\n",
       "            </tr>\n",
       "            <tr>\n",
       "                                <td id=\"T_068f5500_5240_11ea_a3b1_acd56466aa2brow8_col0\" class=\"data row8 col0\" ><b>[^a-c]</b></td>\n",
       "                        <td id=\"T_068f5500_5240_11ea_a3b1_acd56466aa2brow8_col1\" class=\"data row8 col1\" >match any character except from a to c</td>\n",
       "            </tr>\n",
       "            <tr>\n",
       "                                <td id=\"T_068f5500_5240_11ea_a3b1_acd56466aa2brow9_col0\" class=\"data row9 col0\" ><b>\\w or [A-Za-z0-9_]</b></td>\n",
       "                        <td id=\"T_068f5500_5240_11ea_a3b1_acd56466aa2brow9_col1\" class=\"data row9 col1\" >match any characters or digits, no special characters</td>\n",
       "            </tr>\n",
       "            <tr>\n",
       "                                <td id=\"T_068f5500_5240_11ea_a3b1_acd56466aa2brow10_col0\" class=\"data row10 col0\" ><b>ab?c</b></td>\n",
       "                        <td id=\"T_068f5500_5240_11ea_a3b1_acd56466aa2brow10_col1\" class=\"data row10 col1\" >match either \"abc\" or \"ac\" because b is optional, except ? - <b>needs escaping with \\</b></td>\n",
       "            </tr>\n",
       "            <tr>\n",
       "                                <td id=\"T_068f5500_5240_11ea_a3b1_acd56466aa2brow11_col0\" class=\"data row11 col0\" ><b>' '</b></td>\n",
       "                        <td id=\"T_068f5500_5240_11ea_a3b1_acd56466aa2brow11_col1\" class=\"data row11 col1\" >match space</td>\n",
       "            </tr>\n",
       "            <tr>\n",
       "                                <td id=\"T_068f5500_5240_11ea_a3b1_acd56466aa2brow12_col0\" class=\"data row12 col0\" ><b>\\r</b></td>\n",
       "                        <td id=\"T_068f5500_5240_11ea_a3b1_acd56466aa2brow12_col1\" class=\"data row12 col1\" >match carriage return</td>\n",
       "            </tr>\n",
       "            <tr>\n",
       "                                <td id=\"T_068f5500_5240_11ea_a3b1_acd56466aa2brow13_col0\" class=\"data row13 col0\" ><b>\\t</b></td>\n",
       "                        <td id=\"T_068f5500_5240_11ea_a3b1_acd56466aa2brow13_col1\" class=\"data row13 col1\" >match tab</td>\n",
       "            </tr>\n",
       "            <tr>\n",
       "                                <td id=\"T_068f5500_5240_11ea_a3b1_acd56466aa2brow14_col0\" class=\"data row14 col0\" ><b>\\n</b></td>\n",
       "                        <td id=\"T_068f5500_5240_11ea_a3b1_acd56466aa2brow14_col1\" class=\"data row14 col1\" >match new line</td>\n",
       "            </tr>\n",
       "            <tr>\n",
       "                                <td id=\"T_068f5500_5240_11ea_a3b1_acd56466aa2brow15_col0\" class=\"data row15 col0\" ><b>\\s</b></td>\n",
       "                        <td id=\"T_068f5500_5240_11ea_a3b1_acd56466aa2brow15_col1\" class=\"data row15 col1\" >match any whitespace character</td>\n",
       "            </tr>\n",
       "            <tr>\n",
       "                                <td id=\"T_068f5500_5240_11ea_a3b1_acd56466aa2brow16_col0\" class=\"data row16 col0\" ><b>^Today</b></td>\n",
       "                        <td id=\"T_068f5500_5240_11ea_a3b1_acd56466aa2brow16_col1\" class=\"data row16 col1\" >match string beginning with Today</td>\n",
       "            </tr>\n",
       "            <tr>\n",
       "                                <td id=\"T_068f5500_5240_11ea_a3b1_acd56466aa2brow17_col0\" class=\"data row17 col0\" ><b>;$</b></td>\n",
       "                        <td id=\"T_068f5500_5240_11ea_a3b1_acd56466aa2brow17_col1\" class=\"data row17 col1\" >ends with a semicolon</td>\n",
       "            </tr>\n",
       "    </tbody></table>"
      ],
      "text/plain": [
       "<pandas.io.formats.style.Styler at 0x7f9c03def0b8>"
      ]
     },
     "execution_count": 87,
     "metadata": {},
     "output_type": "execute_result"
    }
   ],
   "source": [
    "data = [\n",
    "    ['<b>.</b>', 'match any single character (letter, digit, whitespace, everything), except . itself. - <b>needs ecaping with \\</b>'],\n",
    "    ['<b>\\.</b>', 'match any single character (letter, digit, whitespace, everything) and the dot'],\n",
    "    ['<b>\\d</b>', 'match any digit'],\n",
    "    ['<b>\\d+</b>', 'string has at least one digit'],\n",
    "    ['<b>\\d\\d\\d</b>', 'exactly any three digits'],\n",
    "    ['<b>[cmf]</b>', 'match only c, m, or f and nothing else'],\n",
    "    ['<b>[^cmf]</b>', 'match any except c, m, or f'],\n",
    "    ['<b>[0-6]</b>', 'match any digit from 0 to 6'],\n",
    "    ['<b>[^a-c]</b>', 'match any character except from a to c'],\n",
    "    ['<b>\\w or [A-Za-z0-9_]</b>', 'match any characters or digits, no special characters'],\n",
    "    ['<b>ab?c</b>', 'match either \"abc\" or \"ac\" because b is optional, except ? - <b>needs escaping with \\</b>'],\n",
    "    ['<b>\\' \\'</b>', 'match space'],\n",
    "    ['<b>\\\\r</b>', 'match carriage return'],\n",
    "    ['<b>\\\\t</b>', 'match tab'],\n",
    "    ['<b>\\\\n</b>', 'match new line'],\n",
    "    ['<b>\\s</b>', 'match any whitespace character'],\n",
    "    ['<b>^Today</b>', 'match string beginning with Today'],\n",
    "    ['<b>;$</b>', 'ends with a semicolon'],\n",
    "]\n",
    "\n",
    "legend = pandas.DataFrame(data, columns=['Filter', 'Explanation'], index = None)\n",
    "legend.style.hide_index()"
   ]
  },
  {
   "cell_type": "markdown",
   "metadata": {},
   "source": [
    "# Functions"
   ]
  },
  {
   "cell_type": "code",
   "execution_count": 54,
   "metadata": {},
   "outputs": [],
   "source": [
    "def testMatch(result):\n",
    "    if result is None:\n",
    "        print('Not a match.')\n",
    "    else:\n",
    "        print('Found a match at start: ' + str(result.start()) + ' | end: ' + str(result.end()))"
   ]
  },
  {
   "cell_type": "markdown",
   "metadata": {},
   "source": [
    "# Basic match 1"
   ]
  },
  {
   "cell_type": "code",
   "execution_count": 55,
   "metadata": {},
   "outputs": [
    {
     "name": "stdout",
     "output_type": "stream",
     "text": [
      "Found a match at start: 1 | end: 2\n"
     ]
    }
   ],
   "source": [
    "text = 'abcdefg'\n",
    "match = 'b'\n",
    "\n",
    "testMatch(re.search(match, text))"
   ]
  },
  {
   "cell_type": "markdown",
   "metadata": {},
   "source": [
    "# Find and gather all matching digits | \\d"
   ]
  },
  {
   "cell_type": "code",
   "execution_count": 5,
   "metadata": {},
   "outputs": [
    {
     "data": {
      "text/plain": [
       "['2', '3']"
      ]
     },
     "execution_count": 5,
     "metadata": {},
     "output_type": "execute_result"
    }
   ],
   "source": [
    "text = 'adsf23gfd'\n",
    "match = '\\d'\n",
    "\n",
    "re.findall(match, text)"
   ]
  },
  {
   "cell_type": "markdown",
   "metadata": {},
   "source": [
    "# Multiple matched string locations"
   ]
  },
  {
   "cell_type": "code",
   "execution_count": 6,
   "metadata": {},
   "outputs": [
    {
     "name": "stdout",
     "output_type": "stream",
     "text": [
      "Text: Now I see trees everywhere.\n",
      "\n",
      "Letter 'e' found at start: 11 ending at: 12\n",
      "Letter 'e' found at start: 19 ending at: 20\n",
      "Letter 'e' found at start: 24 ending at: 25\n",
      "Letter 'h' found at start: 22 ending at: 23\n"
     ]
    }
   ],
   "source": [
    "text = 'Now I see trees everywhere.'\n",
    "\n",
    "print(\"Text: \" + text + \"\\n\")\n",
    "\n",
    "for match in re.finditer('r', text):\n",
    "    print(\"Letter \\'e\\' found at start: \" + str(match.start()) + \" ending at: \" + str(match.end()))\n",
    "\n",
    "for match in re.finditer('h', text):\n",
    "    print(\"Letter \\'h\\' found at start: \" + str(match.start()) + \" ending at: \" + str(match.end()))"
   ]
  },
  {
   "cell_type": "markdown",
   "metadata": {},
   "source": [
    "# Match anything except... | [^Now]"
   ]
  },
  {
   "cell_type": "code",
   "execution_count": 7,
   "metadata": {},
   "outputs": [
    {
     "name": "stdout",
     "output_type": "stream",
     "text": [
      "Found a match at start: 3 | end: 4\n"
     ]
    }
   ],
   "source": [
    "text = 'Now I see trees everywhere.'\n",
    "\n",
    "testMatch(re.search('[^Now]', text))"
   ]
  },
  {
   "cell_type": "code",
   "execution_count": 8,
   "metadata": {},
   "outputs": [
    {
     "data": {
      "text/plain": [
       "['I', 's', 't', 'r', 's', 'v', 'r', 'y', 'h', 'r', '.']"
      ]
     },
     "execution_count": 8,
     "metadata": {},
     "output_type": "execute_result"
    }
   ],
   "source": [
    "re.findall('[^ Nowe]', text)"
   ]
  },
  {
   "cell_type": "markdown",
   "metadata": {},
   "source": [
    "# Match any characters or digits| \\w or [A-Za-z0-9_]"
   ]
  },
  {
   "cell_type": "code",
   "execution_count": 9,
   "metadata": {},
   "outputs": [
    {
     "name": "stdout",
     "output_type": "stream",
     "text": [
      "Found a match at start: 0 | end: 1\n"
     ]
    }
   ],
   "source": [
    "text = '68 hens \\'n a lil piggeh in a yard kod dida Čake. Additionalz: Đ0_324$#'\n",
    "\n",
    "testMatch(re.search('\\w', text))"
   ]
  },
  {
   "cell_type": "code",
   "execution_count": 10,
   "metadata": {},
   "outputs": [
    {
     "name": "stdout",
     "output_type": "stream",
     "text": [
      "Found a match at start: 0 | end: 1\n"
     ]
    }
   ],
   "source": [
    "testMatch(re.search('[A-Za-z0-9_]', text))"
   ]
  },
  {
   "cell_type": "code",
   "execution_count": 11,
   "metadata": {
    "scrolled": true
   },
   "outputs": [
    {
     "name": "stdout",
     "output_type": "stream",
     "text": [
      "Found a match at start: 6 | end: 7\n"
     ]
    }
   ],
   "source": [
    "text = '\\.#$$ non chars muahahaha'\n",
    "testMatch(re.search('\\w', text))"
   ]
  },
  {
   "cell_type": "markdown",
   "metadata": {},
   "source": [
    "###### Exactly three of such"
   ]
  },
  {
   "cell_type": "code",
   "execution_count": 12,
   "metadata": {},
   "outputs": [
    {
     "name": "stdout",
     "output_type": "stream",
     "text": [
      "Found a match at start: 15 | end: 18\n"
     ]
    }
   ],
   "source": [
    "text = '\\.#$$ n$on$ ch$ars muahahaha'\n",
    "testMatch(re.search('\\w\\w\\w', text))"
   ]
  },
  {
   "cell_type": "markdown",
   "metadata": {},
   "source": [
    "###### Another way"
   ]
  },
  {
   "cell_type": "code",
   "execution_count": 13,
   "metadata": {},
   "outputs": [
    {
     "name": "stdout",
     "output_type": "stream",
     "text": [
      "Found a match at start: 15 | end: 18\n"
     ]
    }
   ],
   "source": [
    "testMatch(re.search('\\w{3}', text))"
   ]
  },
  {
   "cell_type": "markdown",
   "metadata": {},
   "source": [
    "# Match repetitions - amount from range"
   ]
  },
  {
   "cell_type": "code",
   "execution_count": 21,
   "metadata": {},
   "outputs": [
    {
     "name": "stdout",
     "output_type": "stream",
     "text": [
      "Found a match at start: 24 | end: 26\n"
     ]
    }
   ],
   "source": [
    "text = 'the mexican dude went all jajajajaja'\n",
    "expression = 'l{2,3}'\n",
    "\n",
    "testMatch(re.search(expression, text))"
   ]
  },
  {
   "cell_type": "markdown",
   "metadata": {},
   "source": [
    "# Check for any amount of digit presence"
   ]
  },
  {
   "cell_type": "code",
   "execution_count": 57,
   "metadata": {},
   "outputs": [
    {
     "name": "stdout",
     "output_type": "stream",
     "text": [
      "Found a match at start: 4 | end: 6\n"
     ]
    }
   ],
   "source": [
    "text = 'I\\'m 28 years and 4 months old.'\n",
    "expression = '\\d+'\n",
    "\n",
    "testMatch(re.search(expression, text))"
   ]
  },
  {
   "cell_type": "markdown",
   "metadata": {},
   "source": [
    "##### Find all matching results"
   ]
  },
  {
   "cell_type": "code",
   "execution_count": 45,
   "metadata": {},
   "outputs": [
    {
     "data": {
      "text/plain": [
       "['28', '4']"
      ]
     },
     "execution_count": 45,
     "metadata": {},
     "output_type": "execute_result"
    }
   ],
   "source": [
    "re.findall(expression, text)"
   ]
  },
  {
   "cell_type": "code",
   "execution_count": null,
   "metadata": {},
   "outputs": [],
   "source": []
  }
 ],
 "metadata": {
  "kernelspec": {
   "display_name": "Python 3",
   "language": "python",
   "name": "python3"
  },
  "language_info": {
   "codemirror_mode": {
    "name": "ipython",
    "version": 3
   },
   "file_extension": ".py",
   "mimetype": "text/x-python",
   "name": "python",
   "nbconvert_exporter": "python",
   "pygments_lexer": "ipython3",
   "version": "3.6.8"
  }
 },
 "nbformat": 4,
 "nbformat_minor": 2
}
