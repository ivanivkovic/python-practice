{
 "cells": [
  {
   "cell_type": "markdown",
   "metadata": {},
   "source": [
    "# Imports"
   ]
  },
  {
   "cell_type": "code",
   "execution_count": 5,
   "metadata": {},
   "outputs": [],
   "source": [
    "import fbprophet\n",
    "import pandas as pd\n",
    "import matplotlib.pyplot as plt\n",
    "\n",
    "pd.set_option('display.max_colwidth', 5000)\n",
    "pd.set_option('display.max_columns', 50)\n",
    "pd.set_option('display.max_rows', None)"
   ]
  },
  {
   "cell_type": "markdown",
   "metadata": {},
   "source": [
    "# Load datasets"
   ]
  },
  {
   "cell_type": "code",
   "execution_count": 6,
   "metadata": {},
   "outputs": [],
   "source": [
    "datasets = [\n",
    "    \"cro-climate-change\",\n",
    "    \"cro-health-indicators\",\n",
    "    \"cro-mixed-indicators\",\n",
    "    \"cro-science-technology\",\n",
    "    \"cro-urban-development\"\n",
    "]\n",
    "\n",
    "dataframes = {}\n",
    "for dataset in datasets:\n",
    "    dataframes[dataset] = pd.read_csv(\"datasets/\" + dataset + \".csv\")"
   ]
  },
  {
   "attachments": {},
   "cell_type": "markdown",
   "metadata": {},
   "source": [
    "# Renewable energy consumption (% of total final energy consumption)"
   ]
  },
  {
   "cell_type": "code",
   "execution_count": 47,
   "metadata": {},
   "outputs": [
    {
     "data": {
      "text/html": [
       "<div>\n",
       "<style scoped>\n",
       "    .dataframe tbody tr th:only-of-type {\n",
       "        vertical-align: middle;\n",
       "    }\n",
       "\n",
       "    .dataframe tbody tr th {\n",
       "        vertical-align: top;\n",
       "    }\n",
       "\n",
       "    .dataframe thead th {\n",
       "        text-align: right;\n",
       "    }\n",
       "</style>\n",
       "<table border=\"1\" class=\"dataframe\">\n",
       "  <thead>\n",
       "    <tr style=\"text-align: right;\">\n",
       "      <th></th>\n",
       "      <th>Year</th>\n",
       "      <th>Value</th>\n",
       "    </tr>\n",
       "  </thead>\n",
       "  <tbody>\n",
       "    <tr>\n",
       "      <th>24313</th>\n",
       "      <td>1990</td>\n",
       "      <td>21.923180</td>\n",
       "    </tr>\n",
       "    <tr>\n",
       "      <th>24312</th>\n",
       "      <td>1991</td>\n",
       "      <td>33.354542</td>\n",
       "    </tr>\n",
       "    <tr>\n",
       "      <th>24311</th>\n",
       "      <td>1992</td>\n",
       "      <td>29.811033</td>\n",
       "    </tr>\n",
       "    <tr>\n",
       "      <th>24310</th>\n",
       "      <td>1993</td>\n",
       "      <td>29.899990</td>\n",
       "    </tr>\n",
       "    <tr>\n",
       "      <th>24309</th>\n",
       "      <td>1994</td>\n",
       "      <td>30.098335</td>\n",
       "    </tr>\n",
       "    <tr>\n",
       "      <th>24308</th>\n",
       "      <td>1995</td>\n",
       "      <td>30.384527</td>\n",
       "    </tr>\n",
       "    <tr>\n",
       "      <th>24307</th>\n",
       "      <td>1996</td>\n",
       "      <td>34.126504</td>\n",
       "    </tr>\n",
       "    <tr>\n",
       "      <th>24306</th>\n",
       "      <td>1997</td>\n",
       "      <td>29.211151</td>\n",
       "    </tr>\n",
       "    <tr>\n",
       "      <th>24305</th>\n",
       "      <td>1998</td>\n",
       "      <td>28.114399</td>\n",
       "    </tr>\n",
       "    <tr>\n",
       "      <th>24304</th>\n",
       "      <td>1999</td>\n",
       "      <td>27.810842</td>\n",
       "    </tr>\n",
       "    <tr>\n",
       "      <th>24303</th>\n",
       "      <td>2000</td>\n",
       "      <td>26.788180</td>\n",
       "    </tr>\n",
       "    <tr>\n",
       "      <th>24302</th>\n",
       "      <td>2001</td>\n",
       "      <td>26.945498</td>\n",
       "    </tr>\n",
       "    <tr>\n",
       "      <th>24301</th>\n",
       "      <td>2002</td>\n",
       "      <td>24.631182</td>\n",
       "    </tr>\n",
       "    <tr>\n",
       "      <th>24300</th>\n",
       "      <td>2003</td>\n",
       "      <td>24.840139</td>\n",
       "    </tr>\n",
       "    <tr>\n",
       "      <th>24299</th>\n",
       "      <td>2004</td>\n",
       "      <td>26.585238</td>\n",
       "    </tr>\n",
       "    <tr>\n",
       "      <th>24298</th>\n",
       "      <td>2005</td>\n",
       "      <td>26.836890</td>\n",
       "    </tr>\n",
       "    <tr>\n",
       "      <th>24297</th>\n",
       "      <td>2006</td>\n",
       "      <td>25.517216</td>\n",
       "    </tr>\n",
       "    <tr>\n",
       "      <th>24296</th>\n",
       "      <td>2007</td>\n",
       "      <td>22.672156</td>\n",
       "    </tr>\n",
       "    <tr>\n",
       "      <th>24295</th>\n",
       "      <td>2008</td>\n",
       "      <td>24.155911</td>\n",
       "    </tr>\n",
       "    <tr>\n",
       "      <th>24294</th>\n",
       "      <td>2009</td>\n",
       "      <td>27.178256</td>\n",
       "    </tr>\n",
       "    <tr>\n",
       "      <th>24293</th>\n",
       "      <td>2010</td>\n",
       "      <td>29.775047</td>\n",
       "    </tr>\n",
       "    <tr>\n",
       "      <th>24292</th>\n",
       "      <td>2011</td>\n",
       "      <td>27.186239</td>\n",
       "    </tr>\n",
       "    <tr>\n",
       "      <th>24291</th>\n",
       "      <td>2012</td>\n",
       "      <td>29.421949</td>\n",
       "    </tr>\n",
       "    <tr>\n",
       "      <th>24290</th>\n",
       "      <td>2013</td>\n",
       "      <td>32.837511</td>\n",
       "    </tr>\n",
       "    <tr>\n",
       "      <th>24289</th>\n",
       "      <td>2014</td>\n",
       "      <td>33.648191</td>\n",
       "    </tr>\n",
       "    <tr>\n",
       "      <th>24288</th>\n",
       "      <td>2015</td>\n",
       "      <td>33.127467</td>\n",
       "    </tr>\n",
       "  </tbody>\n",
       "</table>\n",
       "</div>"
      ],
      "text/plain": [
       "       Year      Value\n",
       "24313  1990  21.923180\n",
       "24312  1991  33.354542\n",
       "24311  1992  29.811033\n",
       "24310  1993  29.899990\n",
       "24309  1994  30.098335\n",
       "24308  1995  30.384527\n",
       "24307  1996  34.126504\n",
       "24306  1997  29.211151\n",
       "24305  1998  28.114399\n",
       "24304  1999  27.810842\n",
       "24303  2000  26.788180\n",
       "24302  2001  26.945498\n",
       "24301  2002  24.631182\n",
       "24300  2003  24.840139\n",
       "24299  2004  26.585238\n",
       "24298  2005  26.836890\n",
       "24297  2006  25.517216\n",
       "24296  2007  22.672156\n",
       "24295  2008  24.155911\n",
       "24294  2009  27.178256\n",
       "24293  2010  29.775047\n",
       "24292  2011  27.186239\n",
       "24291  2012  29.421949\n",
       "24290  2013  32.837511\n",
       "24289  2014  33.648191\n",
       "24288  2015  33.127467"
      ]
     },
     "execution_count": 47,
     "metadata": {},
     "output_type": "execute_result"
    }
   ],
   "source": [
    "fae = dataframes[\"cro-mixed-indicators\"].loc[dataframes[\"cro-mixed-indicators\"][\"Indicator Name\"] == \"Renewable energy consumption (% of total final energy consumption)\"]\n",
    "fae = fae.drop_duplicates(subset = \"Year\")\n",
    "fae = fae[['Year', 'Value']]\n",
    "\n",
    "fae['Year']  = fae['Year'].astype(\"int64\")\n",
    "fae['Value'] = fae['Value'].astype(\"float64\")\n",
    "\n",
    "fae.sort_values('Year')"
   ]
  },
  {
   "cell_type": "code",
   "execution_count": 48,
   "metadata": {},
   "outputs": [
    {
     "data": {
      "text/plain": [
       "[<matplotlib.lines.Line2D at 0x7fb85149a550>]"
      ]
     },
     "execution_count": 48,
     "metadata": {},
     "output_type": "execute_result"
    },
    {
     "data": {
      "image/png": "[encoded data removed]",
      "text/plain": [
       "<Figure size 432x288 with 1 Axes>"
      ]
     },
     "metadata": {
      "needs_background": "light"
     },
     "output_type": "display_data"
    }
   ],
   "source": [
    "plt.plot(fae[\"Year\"], fae[\"Value\"])"
   ]
  },
  {
   "cell_type": "code",
   "execution_count": null,
   "metadata": {},
   "outputs": [],
   "source": []
  }
 ],
 "metadata": {
  "kernelspec": {
   "display_name": "Python 3",
   "language": "python",
   "name": "python3"
  },
  "language_info": {
   "codemirror_mode": {
    "name": "ipython",
    "version": 3
   },
   "file_extension": ".py",
   "mimetype": "text/x-python",
   "name": "python",
   "nbconvert_exporter": "python",
   "pygments_lexer": "ipython3",
   "version": "3.6.9"
  }
 },
 "nbformat": 4,
 "nbformat_minor": 2
}
