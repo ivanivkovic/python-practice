{
 "cells": [
  {
   "cell_type": "markdown",
   "metadata": {},
   "source": [
    "# Imports"
   ]
  },
  {
   "cell_type": "code",
   "execution_count": 11,
   "metadata": {},
   "outputs": [],
   "source": [
    "import re\n",
    "import pandas\n",
    "\n",
    "pandas.options.display.max_colwidth = 5000\n",
    "pandas.options.display.max_columns = 10\n",
    "pandas.options.display.max_rows = 200"
   ]
  },
  {
   "cell_type": "markdown",
   "metadata": {},
   "source": [
    "# Legend"
   ]
  },
  {
   "cell_type": "code",
   "execution_count": 26,
   "metadata": {},
   "outputs": [
    {
     "data": {
      "text/html": [
       "<style  type=\"text/css\" >\n",
       "</style><table id=\"T_7ae371a8_519a_11ea_b8ef_acd56466aa2b\" ><thead>    <tr>        <th class=\"col_heading level0 col0\" >Filter</th>        <th class=\"col_heading level0 col1\" >Explanation</th>    </tr></thead><tbody>\n",
       "                <tr>\n",
       "                                <td id=\"T_7ae371a8_519a_11ea_b8ef_acd56466aa2brow0_col0\" class=\"data row0 col0\" >.</td>\n",
       "                        <td id=\"T_7ae371a8_519a_11ea_b8ef_acd56466aa2brow0_col1\" class=\"data row0 col1\" >match any single character (letter, digit, whitespace, everything), except . itself.</td>\n",
       "            </tr>\n",
       "            <tr>\n",
       "                                <td id=\"T_7ae371a8_519a_11ea_b8ef_acd56466aa2brow1_col0\" class=\"data row1 col0\" >\\.</td>\n",
       "                        <td id=\"T_7ae371a8_519a_11ea_b8ef_acd56466aa2brow1_col1\" class=\"data row1 col1\" >match any single character (letter, digit, whitespace, everything) and the dot</td>\n",
       "            </tr>\n",
       "            <tr>\n",
       "                                <td id=\"T_7ae371a8_519a_11ea_b8ef_acd56466aa2brow2_col0\" class=\"data row2 col0\" >\\d</td>\n",
       "                        <td id=\"T_7ae371a8_519a_11ea_b8ef_acd56466aa2brow2_col1\" class=\"data row2 col1\" >match any digit</td>\n",
       "            </tr>\n",
       "            <tr>\n",
       "                                <td id=\"T_7ae371a8_519a_11ea_b8ef_acd56466aa2brow3_col0\" class=\"data row3 col0\" >\\d\\d\\d</td>\n",
       "                        <td id=\"T_7ae371a8_519a_11ea_b8ef_acd56466aa2brow3_col1\" class=\"data row3 col1\" >exactly any three digits</td>\n",
       "            </tr>\n",
       "            <tr>\n",
       "                                <td id=\"T_7ae371a8_519a_11ea_b8ef_acd56466aa2brow4_col0\" class=\"data row4 col0\" >[cmf]</td>\n",
       "                        <td id=\"T_7ae371a8_519a_11ea_b8ef_acd56466aa2brow4_col1\" class=\"data row4 col1\" >match only c, m, or f and nothing else</td>\n",
       "            </tr>\n",
       "            <tr>\n",
       "                                <td id=\"T_7ae371a8_519a_11ea_b8ef_acd56466aa2brow5_col0\" class=\"data row5 col0\" >[^cmf]</td>\n",
       "                        <td id=\"T_7ae371a8_519a_11ea_b8ef_acd56466aa2brow5_col1\" class=\"data row5 col1\" >match any except c, m, or f</td>\n",
       "            </tr>\n",
       "            <tr>\n",
       "                                <td id=\"T_7ae371a8_519a_11ea_b8ef_acd56466aa2brow6_col0\" class=\"data row6 col0\" >[0-6]</td>\n",
       "                        <td id=\"T_7ae371a8_519a_11ea_b8ef_acd56466aa2brow6_col1\" class=\"data row6 col1\" >match any digit from 0 to 6</td>\n",
       "            </tr>\n",
       "            <tr>\n",
       "                                <td id=\"T_7ae371a8_519a_11ea_b8ef_acd56466aa2brow7_col0\" class=\"data row7 col0\" >[^a-c]</td>\n",
       "                        <td id=\"T_7ae371a8_519a_11ea_b8ef_acd56466aa2brow7_col1\" class=\"data row7 col1\" >match any character except from a to c</td>\n",
       "            </tr>\n",
       "            <tr>\n",
       "                                <td id=\"T_7ae371a8_519a_11ea_b8ef_acd56466aa2brow8_col0\" class=\"data row8 col0\" >\\w or [A-Za-z0-9_]</td>\n",
       "                        <td id=\"T_7ae371a8_519a_11ea_b8ef_acd56466aa2brow8_col1\" class=\"data row8 col1\" >match any characters or digits, no special characters</td>\n",
       "            </tr>\n",
       "    </tbody></table>"
      ],
      "text/plain": [
       "<pandas.io.formats.style.Styler at 0x7fc20e3255f8>"
      ]
     },
     "execution_count": 26,
     "metadata": {},
     "output_type": "execute_result"
    }
   ],
   "source": [
    "data = [\n",
    "    ['.', 'match any single character (letter, digit, whitespace, everything), except . itself.'],\n",
    "    ['\\.', 'match any single character (letter, digit, whitespace, everything) and the dot'],\n",
    "    ['\\d', 'match any digit'],\n",
    "    ['\\d\\d\\d', 'exactly any three digits'],\n",
    "    ['[cmf]', 'match only c, m, or f and nothing else'],\n",
    "    ['[^cmf]', 'match any except c, m, or f'],\n",
    "    ['[0-6]', 'match any digit from 0 to 6'],\n",
    "    ['[^a-c]', 'match any character except from a to c'],\n",
    "    ['\\w or [A-Za-z0-9_]', 'match any characters or digits, no special characters'],\n",
    "]\n",
    "\n",
    "legend = pandas.DataFrame(data, columns=['Filter', 'Explanation'], index = None)\n",
    "legend.style.hide_index()"
   ]
  },
  {
   "cell_type": "markdown",
   "metadata": {},
   "source": [
    "# Functions"
   ]
  },
  {
   "cell_type": "code",
   "execution_count": 13,
   "metadata": {},
   "outputs": [],
   "source": [
    "def testMatch(result):\n",
    "    if result is None:\n",
    "        print('Not a match')\n",
    "    else:\n",
    "        print('Found a match at start: ' + str(result.start()) + ' | end: ' + str(result.end()))"
   ]
  },
  {
   "cell_type": "markdown",
   "metadata": {},
   "source": [
    "# Basic match 1"
   ]
  },
  {
   "cell_type": "code",
   "execution_count": 45,
   "metadata": {},
   "outputs": [
    {
     "name": "stdout",
     "output_type": "stream",
     "text": [
      "Found a match at start: 1 | end: 2\n"
     ]
    }
   ],
   "source": [
    "text = 'abcdefg'\n",
    "match = 'b'\n",
    "\n",
    "testMatch(re.search(match, text))"
   ]
  },
  {
   "cell_type": "markdown",
   "metadata": {},
   "source": [
    "# Find and gather all matching digits | \\d"
   ]
  },
  {
   "cell_type": "code",
   "execution_count": 15,
   "metadata": {},
   "outputs": [
    {
     "data": {
      "text/plain": [
       "['2', '3']"
      ]
     },
     "execution_count": 15,
     "metadata": {},
     "output_type": "execute_result"
    }
   ],
   "source": [
    "text = 'adsf23gfd'\n",
    "match = '\\d'\n",
    "\n",
    "re.findall(match, text)"
   ]
  },
  {
   "cell_type": "markdown",
   "metadata": {},
   "source": [
    "# Multiple matched string locations"
   ]
  },
  {
   "cell_type": "code",
   "execution_count": 16,
   "metadata": {},
   "outputs": [
    {
     "name": "stdout",
     "output_type": "stream",
     "text": [
      "Text: Now I see trees everywhere.\n",
      "\n",
      "Letter 'e' found at start: 11 ending at: 12\n",
      "Letter 'e' found at start: 19 ending at: 20\n",
      "Letter 'e' found at start: 24 ending at: 25\n",
      "Letter 'h' found at start: 22 ending at: 23\n"
     ]
    }
   ],
   "source": [
    "text = 'Now I see trees everywhere.'\n",
    "\n",
    "print(\"Text: \" + text + \"\\n\")\n",
    "\n",
    "for match in re.finditer('r', text):\n",
    "    print(\"Letter \\'e\\' found at start: \" + str(match.start()) + \" ending at: \" + str(match.end()))\n",
    "\n",
    "for match in re.finditer('h', text):\n",
    "    print(\"Letter \\'h\\' found at start: \" + str(match.start()) + \" ending at: \" + str(match.end()))"
   ]
  },
  {
   "cell_type": "markdown",
   "metadata": {},
   "source": [
    "# Match anything except... | [^Now]"
   ]
  },
  {
   "cell_type": "code",
   "execution_count": 17,
   "metadata": {},
   "outputs": [
    {
     "name": "stdout",
     "output_type": "stream",
     "text": [
      "Found a match at start: 3 | end: 4\n"
     ]
    }
   ],
   "source": [
    "text = 'Now I see trees everywhere.'\n",
    "\n",
    "testMatch(re.search('[^Now]', text))"
   ]
  },
  {
   "cell_type": "code",
   "execution_count": 18,
   "metadata": {},
   "outputs": [
    {
     "data": {
      "text/plain": [
       "['I', 's', 't', 'r', 's', 'v', 'r', 'y', 'h', 'r', '.']"
      ]
     },
     "execution_count": 18,
     "metadata": {},
     "output_type": "execute_result"
    }
   ],
   "source": [
    "re.findall('[^ Nowe]', text)"
   ]
  },
  {
   "cell_type": "markdown",
   "metadata": {},
   "source": [
    "# Match any characters or digits| \\w or [A-Za-z0-9_]"
   ]
  },
  {
   "cell_type": "code",
   "execution_count": 19,
   "metadata": {},
   "outputs": [
    {
     "name": "stdout",
     "output_type": "stream",
     "text": [
      "Found a match at start: 0 | end: 1\n"
     ]
    }
   ],
   "source": [
    "text = '68 hens \\'n a lil piggeh in a yard kod dida Čake. Additionalz: Đ0_324$#'\n",
    "\n",
    "testMatch(re.search('\\w', text))"
   ]
  },
  {
   "cell_type": "code",
   "execution_count": 20,
   "metadata": {},
   "outputs": [
    {
     "name": "stdout",
     "output_type": "stream",
     "text": [
      "Found a match at start: 0 | end: 1\n"
     ]
    }
   ],
   "source": [
    "testMatch(re.search('[A-Za-z0-9_]', text))"
   ]
  },
  {
   "cell_type": "code",
   "execution_count": 21,
   "metadata": {
    "scrolled": true
   },
   "outputs": [
    {
     "name": "stdout",
     "output_type": "stream",
     "text": [
      "Found a match at start: 6 | end: 7\n"
     ]
    }
   ],
   "source": [
    "text = '\\.#$$ non chars muahahaha'\n",
    "testMatch(re.search('\\w', text))"
   ]
  },
  {
   "cell_type": "markdown",
   "metadata": {},
   "source": [
    "###### Exactly three of such"
   ]
  },
  {
   "cell_type": "code",
   "execution_count": 29,
   "metadata": {},
   "outputs": [
    {
     "name": "stdout",
     "output_type": "stream",
     "text": [
      "Found a match at start: 15 | end: 18\n"
     ]
    }
   ],
   "source": [
    "text = '\\.#$$ n$on$ ch$ars muahahaha'\n",
    "testMatch(re.search('\\w\\w\\w', text))"
   ]
  },
  {
   "cell_type": "markdown",
   "metadata": {},
   "source": [
    "###### Another way"
   ]
  },
  {
   "cell_type": "code",
   "execution_count": 28,
   "metadata": {},
   "outputs": [
    {
     "name": "stdout",
     "output_type": "stream",
     "text": [
      "Found a match at start: 15 | end: 18\n"
     ]
    }
   ],
   "source": [
    "testMatch(re.search('\\w{3}', text))"
   ]
  },
  {
   "cell_type": "markdown",
   "metadata": {},
   "source": [
    "# Match repetitions - amount from range"
   ]
  },
  {
   "cell_type": "code",
   "execution_count": 53,
   "metadata": {},
   "outputs": [
    {
     "name": "stdout",
     "output_type": "stream",
     "text": [
      "Found a match at start: 23 | end: 25\n"
     ]
    }
   ],
   "source": [
    "text = 'the mexican dude went all jajajajaja'\n",
    "testMatch(re.search('l{2,3}', text))"
   ]
  },
  {
   "cell_type": "markdown",
   "metadata": {},
   "source": [
    "### Get back to this - match repetitions of \"ja\""
   ]
  },
  {
   "cell_type": "code",
   "execution_count": 55,
   "metadata": {},
   "outputs": [
    {
     "name": "stdout",
     "output_type": "stream",
     "text": [
      "Not a match\n"
     ]
    }
   ],
   "source": [
    "testMatch(re.search('ja{2,3}', text))"
   ]
  }
 ],
 "metadata": {
  "kernelspec": {
   "display_name": "Python 3",
   "language": "python",
   "name": "python3"
  },
  "language_info": {
   "codemirror_mode": {
    "name": "ipython",
    "version": 3
   },
   "file_extension": ".py",
   "mimetype": "text/x-python",
   "name": "python",
   "nbconvert_exporter": "python",
   "pygments_lexer": "ipython3",
   "version": "3.6.8"
  }
 },
 "nbformat": 4,
 "nbformat_minor": 2
}
